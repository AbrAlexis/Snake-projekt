{
 "cells": [
  {
   "cell_type": "markdown",
   "metadata": {},
   "source": [
    "## <font color='yellow'> Plan\n",
    "</font>\n",
    "\n",
    "### 2. Januar\n",
    "<font color='green'>\n",
    "\n",
    "Dan gruppe. \n",
    "\n",
    "Få GitHub til at virke.\n",
    "</font>\n",
    "\n",
    "### 3. Januar\n",
    "<font color='red'>\n",
    "Få lavet et grid som et 2d array.  \n",
    "\n",
    "Få styr på model controller view og generelt det basale om javafx.\n",
    "\n",
    "Få lavet plan for de næste par dage.\n",
    "\n",
    "Skrive en kodningsfremgangsmetode for simpel snake.\n",
    "</font>\n",
    "\n",
    "### 4. Januar\n",
    "### 5. Januar\n",
    "### 6. Januar\n",
    "### 7. Januar\n",
    "<font color='red'>\n",
    "Færdig med basis snake-spil.\n",
    "</font>\n",
    "\n",
    "### 8. Januar\n",
    "### 9. Januar\n",
    "### 10. Januar\n",
    "### 11. Januar\n",
    "### 12. Januar\n",
    "### 13. Januar\n",
    "### 14. Januar\n",
    "<font color='red'>\n",
    "Aflever opgaven.\n",
    "</font>\n"
   ]
  }
 ],
 "metadata": {
  "language_info": {
   "name": "python"
  }
 },
 "nbformat": 4,
 "nbformat_minor": 2
}

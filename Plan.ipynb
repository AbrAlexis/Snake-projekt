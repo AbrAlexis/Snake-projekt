{
 "cells": [
  {
   "cell_type": "markdown",
   "metadata": {},
   "source": [
    "## Plan\n",
    "### 2. Januar\n",
    "Dan gruppe. \n",
    "\n",
    "Få github til at virke.\n",
    "### 3. Januar\n",
    "### 4. Januar\n",
    "### 5. Januar\n",
    "### 6. Januar\n",
    "### 7. Januar\n",
    "### 8. Januar\n",
    "### 9. Januar\n",
    "### 10. Januar\n",
    "### 11. Januar\n",
    "### 12. Januar\n",
    "### 13. Januar\n",
    "### 14. Januar\n",
    "\n"
   ]
  }
 ],
 "metadata": {
  "kernelspec": {
   "display_name": "Python 3",
   "language": "python",
   "name": "python3"
  },
  "language_info": {
   "codemirror_mode": {
    "name": "ipython",
    "version": 3
   },
   "file_extension": ".py",
   "mimetype": "text/x-python",
   "name": "python",
   "nbconvert_exporter": "python",
   "pygments_lexer": "ipython3",
   "version": "3.11.5"
  }
 },
 "nbformat": 4,
 "nbformat_minor": 2
}
